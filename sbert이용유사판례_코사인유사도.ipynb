{
  "nbformat": 4,
  "nbformat_minor": 0,
  "metadata": {
    "colab": {
      "provenance": [],
      "include_colab_link": true
    },
    "kernelspec": {
      "name": "python3",
      "display_name": "Python 3"
    },
    "language_info": {
      "name": "python"
    },
    "accelerator": "TPU",
    "gpuClass": "standard"
  },
  "cells": [
    {
      "cell_type": "markdown",
      "metadata": {
        "id": "view-in-github",
        "colab_type": "text"
      },
      "source": [
        "<a href=\"https://colab.research.google.com/github/hsollc/Life_at_Kangnam-basic_web_for_comments_and_chatting_etc-/blob/main/sbert%EC%9D%B4%EC%9A%A9%EC%9C%A0%EC%82%AC%ED%8C%90%EB%A1%80_%EC%BD%94%EC%82%AC%EC%9D%B8%EC%9C%A0%EC%82%AC%EB%8F%84.ipynb\" target=\"_parent\"><img src=\"https://colab.research.google.com/assets/colab-badge.svg\" alt=\"Open In Colab\"/></a>"
      ]
    },
    {
      "cell_type": "code",
      "execution_count": null,
      "metadata": {
        "id": "Km0Xga2JeoSd"
      },
      "outputs": [],
      "source": [
        "import tensorflow as tf\n",
        "import os"
      ]
    },
    {
      "cell_type": "markdown",
      "source": [],
      "metadata": {
        "id": "pPMYIALrJ4mr"
      }
    },
    {
      "cell_type": "code",
      "source": [
        "from google.colab import drive\n",
        "drive.mount('/content/drive')"
      ],
      "metadata": {
        "colab": {
          "base_uri": "https://localhost:8080/"
        },
        "id": "BGtCt0IwQSIB",
        "outputId": "cdf946ff-f6b1-4858-bc52-76b09be266b6"
      },
      "execution_count": null,
      "outputs": [
        {
          "output_type": "stream",
          "name": "stdout",
          "text": [
            "Drive already mounted at /content/drive; to attempt to forcibly remount, call drive.mount(\"/content/drive\", force_remount=True).\n"
          ]
        }
      ]
    },
    {
      "cell_type": "code",
      "source": [
        "# Install the required libraries\n",
        "#!pip install google-auth google-auth-oauthlib google-auth-httplib2\n",
        "\n",
        "# Authenticate with the 'b' Google Drive account\n",
        "#from google.colab import auth\n",
        "#auth.authenticate_user()\n",
        "\n",
        "# Connect to the 'b' Google Drive\n",
        "#from google.colab import drive\n",
        "#drive.mount('/content/drive')\n",
        "\n",
        "# Navigate to the 'a' Google Drive folder\n",
        "#%cd '/content/drive/My Drive/Shared with me/김승열'"
      ],
      "metadata": {
        "id": "MR6JVUBYL5Ph"
      },
      "execution_count": null,
      "outputs": []
    },
    {
      "cell_type": "code",
      "source": [
        "resolver = tf.distribute.cluster_resolver.TPUClusterResolver(tpu='grpc://' + os.environ['COLAB_TPU_ADDR'])\n",
        "\n",
        "tf.config.experimental_connect_to_cluster(resolver)\n",
        "tf.tpu.experimental.initialize_tpu_system(resolver)\n",
        "\n",
        "strategy = tf.distribute.TPUStrategy(resolver)"
      ],
      "metadata": {
        "id": "Zt22ks9wfw6m",
        "colab": {
          "base_uri": "https://localhost:8080/"
        },
        "outputId": "ee23fa43-316b-49bf-e434-b6444aa5824e"
      },
      "execution_count": null,
      "outputs": [
        {
          "output_type": "stream",
          "name": "stderr",
          "text": [
            "WARNING:tensorflow:TPU system grpc://10.45.45.178:8470 has already been initialized. Reinitializing the TPU can cause previously created variables on TPU to be lost.\n"
          ]
        }
      ]
    },
    {
      "cell_type": "code",
      "source": [
        "def create_model():\n",
        "  return tf.keras.Sequential(\n",
        "      [tf.keras.layers.Conv2D(256, 3, activation='relu', input_shape=(28, 28, 1)),\n",
        "       tf.keras.layers.Conv2D(256, 3, activation='relu'),\n",
        "       tf.keras.layers.Flatten(),\n",
        "       tf.keras.layers.Dense(256, activation='relu'),\n",
        "       tf.keras.layers.Dense(128, activation='relu'),\n",
        "       tf.keras.layers.Dense(10)])\n"
      ],
      "metadata": {
        "id": "qpru9YNWf8G-"
      },
      "execution_count": null,
      "outputs": []
    },
    {
      "cell_type": "code",
      "source": [
        "with strategy.scope():\n",
        "  model = create_model()\n",
        "  model.compile(optimizer='adam',\n",
        "                loss=tf.keras.losses.SparseCategoricalCrossentropy(from_logits=True),\n",
        "                metrics=['sparse_categorical_accuracy'])"
      ],
      "metadata": {
        "id": "_1v2N6n4gCPH"
      },
      "execution_count": null,
      "outputs": []
    },
    {
      "cell_type": "code",
      "source": [
        "!pwd"
      ],
      "metadata": {
        "colab": {
          "base_uri": "https://localhost:8080/"
        },
        "id": "vcQRoLEfgOkn",
        "outputId": "3f6b94db-86cf-4a02-f20e-c3759c83c692"
      },
      "execution_count": null,
      "outputs": [
        {
          "output_type": "stream",
          "name": "stdout",
          "text": [
            "/content/drive/My Drive/bert\n"
          ]
        }
      ]
    },
    {
      "cell_type": "code",
      "source": [
        "%cd \"/content/drive/MyDrive/bert\""
      ],
      "metadata": {
        "colab": {
          "base_uri": "https://localhost:8080/"
        },
        "id": "V3E10L65gV7q",
        "outputId": "feb14edc-cacb-4a6b-9002-007709b28139"
      },
      "execution_count": null,
      "outputs": [
        {
          "output_type": "stream",
          "name": "stdout",
          "text": [
            "/content/drive/MyDrive/bert\n"
          ]
        }
      ]
    },
    {
      "cell_type": "code",
      "source": [
        "!pwd"
      ],
      "metadata": {
        "colab": {
          "base_uri": "https://localhost:8080/"
        },
        "id": "9eN445Magi_y",
        "outputId": "b4272af4-c13a-41b1-ffb7-668120cf5bd1"
      },
      "execution_count": null,
      "outputs": [
        {
          "output_type": "stream",
          "name": "stdout",
          "text": [
            "/content/drive/MyDrive/bert\n"
          ]
        }
      ]
    },
    {
      "cell_type": "code",
      "source": [
        "!pip install transformers"
      ],
      "metadata": {
        "colab": {
          "base_uri": "https://localhost:8080/"
        },
        "id": "OOOk1IiyhpSv",
        "outputId": "470e9d6e-80d2-431b-90b3-857db970a738"
      },
      "execution_count": null,
      "outputs": [
        {
          "output_type": "stream",
          "name": "stdout",
          "text": [
            "Looking in indexes: https://pypi.org/simple, https://us-python.pkg.dev/colab-wheels/public/simple/\n",
            "Requirement already satisfied: transformers in /usr/local/lib/python3.8/dist-packages (4.25.1)\n",
            "Requirement already satisfied: requests in /usr/local/lib/python3.8/dist-packages (from transformers) (2.25.1)\n",
            "Requirement already satisfied: huggingface-hub<1.0,>=0.10.0 in /usr/local/lib/python3.8/dist-packages (from transformers) (0.11.1)\n",
            "Requirement already satisfied: regex!=2019.12.17 in /usr/local/lib/python3.8/dist-packages (from transformers) (2022.6.2)\n",
            "Requirement already satisfied: packaging>=20.0 in /usr/local/lib/python3.8/dist-packages (from transformers) (21.3)\n",
            "Requirement already satisfied: tokenizers!=0.11.3,<0.14,>=0.11.1 in /usr/local/lib/python3.8/dist-packages (from transformers) (0.13.2)\n",
            "Requirement already satisfied: tqdm>=4.27 in /usr/local/lib/python3.8/dist-packages (from transformers) (4.64.1)\n",
            "Requirement already satisfied: filelock in /usr/local/lib/python3.8/dist-packages (from transformers) (3.8.2)\n",
            "Requirement already satisfied: numpy>=1.17 in /usr/local/lib/python3.8/dist-packages (from transformers) (1.21.6)\n",
            "Requirement already satisfied: pyyaml>=5.1 in /usr/local/lib/python3.8/dist-packages (from transformers) (6.0)\n",
            "Requirement already satisfied: typing-extensions>=3.7.4.3 in /usr/local/lib/python3.8/dist-packages (from huggingface-hub<1.0,>=0.10.0->transformers) (4.4.0)\n",
            "Requirement already satisfied: pyparsing!=3.0.5,>=2.0.2 in /usr/local/lib/python3.8/dist-packages (from packaging>=20.0->transformers) (3.0.9)\n",
            "Requirement already satisfied: certifi>=2017.4.17 in /usr/local/lib/python3.8/dist-packages (from requests->transformers) (2022.12.7)\n",
            "Requirement already satisfied: urllib3<1.27,>=1.21.1 in /usr/local/lib/python3.8/dist-packages (from requests->transformers) (1.24.3)\n",
            "Requirement already satisfied: idna<3,>=2.5 in /usr/local/lib/python3.8/dist-packages (from requests->transformers) (2.10)\n",
            "Requirement already satisfied: chardet<5,>=3.0.2 in /usr/local/lib/python3.8/dist-packages (from requests->transformers) (4.0.0)\n"
          ]
        }
      ]
    },
    {
      "cell_type": "code",
      "source": [
        "import transformers\n",
        "transformers.__version__"
      ],
      "metadata": {
        "colab": {
          "base_uri": "https://localhost:8080/",
          "height": 35
        },
        "id": "JgkT2V1AhwK_",
        "outputId": "4624df65-5ce2-4ee9-bb92-beeae9bae2f9"
      },
      "execution_count": null,
      "outputs": [
        {
          "output_type": "execute_result",
          "data": {
            "text/plain": [
              "'4.25.1'"
            ],
            "application/vnd.google.colaboratory.intrinsic+json": {
              "type": "string"
            }
          },
          "metadata": {},
          "execution_count": 90
        }
      ]
    },
    {
      "cell_type": "code",
      "source": [
        "import pandas as pd\n",
        "import numpy as np\n",
        "import urllib.request\n",
        "import os\n",
        "from tqdm import tqdm\n",
        "import tensorflow as tf\n",
        "from transformers import BertTokenizer, TFBertModel"
      ],
      "metadata": {
        "id": "6jwKgrTvazEM"
      },
      "execution_count": null,
      "outputs": []
    },
    {
      "cell_type": "code",
      "source": [
        "# urllib.request.urlretrieve(\"https://raw.githubusercontent.com/e9t/nsmc/master/ratings_train.txt\", filename=\"ratings_train.txt\")\n",
        "# urllib.request.urlretrieve(\"https://raw.githubusercontent.com/e9t/nsmc/master/ratings_test.txt\", filename=\"ratings_test.txt\")\n",
        "\n",
        "# train_data = pd.read_table('ratings_train.txt')\n",
        "# test_data = pd.read_table('ratings_test.txt')"
      ],
      "metadata": {
        "id": "sosuJvTUh0Xw"
      },
      "execution_count": null,
      "outputs": []
    },
    {
      "cell_type": "code",
      "source": [
        "# print('훈련용 리뷰 개수 :',len(train_data)) # 훈련용 리뷰 개수 출력\n",
        "\n",
        "# print('테스트용 리뷰 개수 :',len(test_data)) # 테스트용 리뷰 개수 출력\n",
        "\n",
        "\n"
      ],
      "metadata": {
        "id": "Rp_6inAIh8et"
      },
      "execution_count": null,
      "outputs": []
    },
    {
      "cell_type": "code",
      "source": [
        "# train_data[:5] # 상위 5개 출력\n",
        "\n",
        "# test_data[:5] # 상위 5개 출력\n",
        "\n"
      ],
      "metadata": {
        "id": "6Ad9YkmviEUL"
      },
      "execution_count": null,
      "outputs": []
    },
    {
      "cell_type": "code",
      "source": [
        "data1 = pd.read_csv('/content/부동산매매판례1.csv')\n",
        "data2 = pd.read_csv('/content/약정금판례1.csv')\n",
        "data3 = pd.read_csv('/content/저작권판례1.csv')"
      ],
      "metadata": {
        "id": "Y-3g7guTbDHA"
      },
      "execution_count": null,
      "outputs": []
    },
    {
      "cell_type": "code",
      "source": [
        "train_data=pd.concat([data1,data2,data3])[['판결요지']]"
      ],
      "metadata": {
        "id": "-Fi67BV7bZKc"
      },
      "execution_count": null,
      "outputs": []
    },
    {
      "cell_type": "code",
      "source": [
        "train_data = train_data.dropna(how = 'any') # Null 값이 존재하는 행 제거\n",
        "train_data = train_data.reset_index(drop=True)\n",
        "print(train_data.isnull().values.any()) # Null 값이 존재하는지 확인\n",
        "\n",
        "# test_data = test_data.dropna(how = 'any') # Null 값이 존재하는 행 제거\n",
        "# test_data = test_data.reset_index(drop=True)\n",
        "# print(test_data.isnull().values.any()) # Null 값이 존재하는지 확인\n",
        "\n",
        "print(len(train_data))\n",
        "\n",
        "# print(len(test_data))"
      ],
      "metadata": {
        "colab": {
          "base_uri": "https://localhost:8080/"
        },
        "id": "bRCgt6hQiH8I",
        "outputId": "bc3c21ab-0fb4-4cd2-9de2-85e17eee19d8"
      },
      "execution_count": null,
      "outputs": [
        {
          "output_type": "stream",
          "name": "stdout",
          "text": [
            "False\n",
            "1306\n"
          ]
        }
      ]
    },
    {
      "cell_type": "code",
      "source": [
        "tokenizer = BertTokenizer.from_pretrained('bert-base-multilingual-cased')"
      ],
      "metadata": {
        "id": "BFGpcc5MiM-q"
      },
      "execution_count": null,
      "outputs": []
    },
    {
      "cell_type": "code",
      "source": [
        "print(tokenizer.encode(\"보는내내 그대로 들어맞는 예측 카리스마 없는 악역\"))\n",
        "\n",
        "print(tokenizer.tokenize(\"보는내내 그대로 들어맞는 예측 카리스마 없는 악역\"))\n",
        "\n",
        "tokenizer.decode(tokenizer.encode(\"보는내내 그대로 들어맞는 예측 카리스마 없는 악역\"))\n"
      ],
      "metadata": {
        "colab": {
          "base_uri": "https://localhost:8080/",
          "height": 70
        },
        "id": "eqLYUyJoiSSo",
        "outputId": "0e338782-c0c3-4605-fbd5-4aa7dc466d01"
      },
      "execution_count": null,
      "outputs": [
        {
          "output_type": "stream",
          "name": "stdout",
          "text": [
            "[101, 9356, 11018, 31605, 31605, 110589, 71568, 118913, 11018, 9576, 119281, 9786, 79940, 23811, 40364, 9520, 23160, 102]\n",
            "['보', '##는', '##내', '##내', '그대로', '들어', '##맞', '##는', '예', '##측', '카', '##리스', '##마', '없는', '악', '##역']\n"
          ]
        },
        {
          "output_type": "execute_result",
          "data": {
            "text/plain": [
              "'[CLS] 보는내내 그대로 들어맞는 예측 카리스마 없는 악역 [SEP]'"
            ],
            "application/vnd.google.colaboratory.intrinsic+json": {
              "type": "string"
            }
          },
          "metadata": {},
          "execution_count": 99
        }
      ]
    },
    {
      "cell_type": "code",
      "source": [
        "for elem in tokenizer.encode(\"보는내내 그대로 들어맞는 예측 카리스마 없는 악역\"):\n",
        "  print(tokenizer.decode(elem))"
      ],
      "metadata": {
        "colab": {
          "base_uri": "https://localhost:8080/"
        },
        "id": "Tcu673YNiigx",
        "outputId": "54626dcd-fac6-41c5-dc57-07087ba984f2"
      },
      "execution_count": null,
      "outputs": [
        {
          "output_type": "stream",
          "name": "stdout",
          "text": [
            "[ C L S ]\n",
            "보\n",
            "# # 는\n",
            "# # 내\n",
            "# # 내\n",
            "그 대 로\n",
            "들 어\n",
            "# # 맞\n",
            "# # 는\n",
            "예\n",
            "# # 측\n",
            "카\n",
            "# # 리 스\n",
            "# # 마\n",
            "없 는\n",
            "악\n",
            "# # 역\n",
            "[ S E P ]\n"
          ]
        }
      ]
    },
    {
      "cell_type": "code",
      "source": [
        "print(tokenizer.tokenize(\"전율을 일으키는 영화. 다시 보고싶은 영화\"))\n",
        "\n",
        "print(tokenizer.encode(\"전율을 일으키는 영화. 다시 보고싶은 영화\"))"
      ],
      "metadata": {
        "colab": {
          "base_uri": "https://localhost:8080/"
        },
        "id": "0ZkDxxPHioFi",
        "outputId": "ebc940bc-a5cd-45e6-fc8b-7e3b4bbdf8ce"
      },
      "execution_count": null,
      "outputs": [
        {
          "output_type": "stream",
          "name": "stdout",
          "text": [
            "['전', '##율', '##을', '일', '##으', '##키는', '영화', '.', '다시', '보고', '##싶', '##은', '영화']\n",
            "[101, 9665, 119183, 10622, 9641, 119185, 66815, 42428, 119, 25805, 98199, 119088, 10892, 42428, 102]\n"
          ]
        }
      ]
    },
    {
      "cell_type": "code",
      "source": [
        "txt = '타인의 소송에서 사실을 증언하는 증인이 그 증언을 조건으로 그 소송의 일방 당사자 등으로부터 통상적으로 용인될 수 있는 수준예컨대 증인에게 일당 및 여비가 지급되기는 하지만 증인이 증언을 위하여 법원에 출석함으로써 입게 되는 손해에는 미치지 못하는 경우 그러한 손해를 전보하여 주는 정도을 넘어서는 대가를 제공받기로 하는 약정은 국민의 사법참여행위가 대가와 결부됨으로써 사법작용의 불가매수성 내지 대가무관성이 본질적으로 침해되는 경우로서 반사회적 법률행위에 해당하여 무효라고 할 것이다 이는 증언거부권이 있는 증인이 그 증언거부권을 포기하고 증언을 하는 경우라고 하여 달리 볼 것이 아니다'"
      ],
      "metadata": {
        "id": "J142ntISjum1"
      },
      "execution_count": null,
      "outputs": []
    },
    {
      "cell_type": "code",
      "source": [
        "print(tokenizer.tokenize(txt))\n",
        "\n",
        "print(tokenizer.encode(txt))"
      ],
      "metadata": {
        "colab": {
          "base_uri": "https://localhost:8080/"
        },
        "id": "VzqXfrsPjx90",
        "outputId": "948fdac9-0a72-4bbd-97fc-b0064de8499d"
      },
      "execution_count": null,
      "outputs": [
        {
          "output_type": "stream",
          "name": "stdout",
          "text": [
            "['타', '##인의', '소', '##송', '##에서', '사', '##실을', '증', '##언', '##하는', '증', '##인이', '그', '증', '##언', '##을', '조', '##건', '##으로', '그', '소', '##송', '##의', '일', '##방', '당', '##사', '##자', '등으로', '##부터', '통', '##상', '##적으로', '용', '##인', '##될', '수', '있는', '수', '##준', '##예', '##컨', '##대', '증', '##인', '##에게', '일', '##당', '및', '여', '##비', '##가', '지', '##급', '##되', '##기는', '하지만', '증', '##인이', '증', '##언', '##을', '위하여', '법', '##원에', '출', '##석', '##함', '##으로', '##써', '입', '##게', '되는', '손', '##해', '##에는', '미', '##치', '##지', '못', '##하는', '경우', '그', '##러', '##한', '손', '##해를', '전', '##보', '##하여', '주', '##는', '정도', '##을', '넘', '##어', '##서는', '대', '##가를', '제', '##공', '##받', '##기로', '하는', '약', '##정', '##은', '국', '##민', '##의', '사', '##법', '##참', '##여', '##행', '##위', '##가', '대', '##가와', '결', '##부', '##됨', '##으로', '##써', '사', '##법', '##작', '##용', '##의', '불', '##가', '##매', '##수', '##성', '내', '##지', '대', '##가', '##무', '##관', '##성이', '본', '##질', '##적으로', '침', '##해', '##되는', '경우', '##로서', '반', '##사', '##회', '##적', '법', '##률', '##행', '##위에', '해당', '##하여', '무', '##효', '##라고', '할', '것이다', '이는', '증', '##언', '##거', '##부', '##권', '##이', '있는', '증', '##인이', '그', '증', '##언', '##거', '##부', '##권을', '포', '##기', '##하고', '증', '##언', '##을', '하는', '경우', '##라고', '하여', '달리', '볼', '것이', '아', '##니다']\n",
            "[101, 9845, 48418, 9448, 119057, 11489, 9405, 83380, 9705, 48036, 12178, 9705, 56789, 8924, 9705, 48036, 10622, 9678, 71439, 11467, 8924, 9448, 119057, 10459, 9641, 42337, 9067, 12945, 13764, 86475, 17655, 9879, 14871, 17022, 9603, 12030, 59330, 9460, 13767, 9460, 54867, 96279, 119297, 14423, 9705, 12030, 26212, 9641, 21928, 9316, 9565, 29455, 11287, 9706, 37568, 118800, 46216, 32775, 9705, 56789, 9705, 48036, 10622, 68010, 9341, 108280, 9768, 40958, 48533, 11467, 73131, 9645, 14153, 54780, 9450, 14523, 15303, 9309, 18622, 12508, 9290, 12178, 28467, 8924, 30873, 11102, 9450, 92278, 9665, 30005, 13374, 9689, 11018, 107657, 10622, 9008, 12965, 37321, 9069, 92318, 9672, 28000, 118965, 62675, 23969, 9539, 16605, 10892, 8909, 36553, 10459, 9405, 33768, 119251, 29935, 25549, 19855, 11287, 9069, 79611, 8881, 14646, 118801, 11467, 73131, 9405, 33768, 38709, 24974, 10459, 9368, 11287, 100372, 15891, 17138, 8996, 12508, 9069, 11287, 32537, 20595, 53371, 9358, 48599, 17022, 9783, 14523, 24683, 28467, 92413, 9321, 12945, 14863, 14801, 9341, 88350, 25549, 73450, 91621, 13374, 9294, 119449, 59894, 9955, 24190, 33904, 9705, 48036, 41521, 14646, 25347, 10739, 13767, 9705, 56789, 8924, 9705, 48036, 41521, 14646, 57952, 9928, 12310, 12453, 9705, 48036, 10622, 23969, 28467, 59894, 51076, 78139, 9359, 27487, 9519, 48345, 102]\n"
          ]
        }
      ]
    },
    {
      "cell_type": "code",
      "source": [
        "temp = tokenizer.encode(txt)"
      ],
      "metadata": {
        "id": "zl0SmbUyj7i8"
      },
      "execution_count": null,
      "outputs": []
    },
    {
      "cell_type": "code",
      "source": [
        "set(temp)"
      ],
      "metadata": {
        "colab": {
          "base_uri": "https://localhost:8080/"
        },
        "id": "mVCeP1fmkBAc",
        "outputId": "867d4c81-3a13-498f-ab07-3cb4efb900da"
      },
      "execution_count": null,
      "outputs": [
        {
          "output_type": "execute_result",
          "data": {
            "text/plain": [
              "{101,\n",
              " 102,\n",
              " 8881,\n",
              " 8909,\n",
              " 8924,\n",
              " 8996,\n",
              " 9008,\n",
              " 9067,\n",
              " 9069,\n",
              " 9290,\n",
              " 9294,\n",
              " 9309,\n",
              " 9316,\n",
              " 9321,\n",
              " 9341,\n",
              " 9358,\n",
              " 9359,\n",
              " 9368,\n",
              " 9405,\n",
              " 9448,\n",
              " 9450,\n",
              " 9460,\n",
              " 9519,\n",
              " 9539,\n",
              " 9565,\n",
              " 9603,\n",
              " 9641,\n",
              " 9645,\n",
              " 9665,\n",
              " 9672,\n",
              " 9678,\n",
              " 9689,\n",
              " 9705,\n",
              " 9706,\n",
              " 9768,\n",
              " 9783,\n",
              " 9845,\n",
              " 9879,\n",
              " 9928,\n",
              " 9955,\n",
              " 10459,\n",
              " 10622,\n",
              " 10739,\n",
              " 10892,\n",
              " 11018,\n",
              " 11102,\n",
              " 11287,\n",
              " 11467,\n",
              " 11489,\n",
              " 12030,\n",
              " 12178,\n",
              " 12310,\n",
              " 12453,\n",
              " 12508,\n",
              " 12945,\n",
              " 12965,\n",
              " 13374,\n",
              " 13764,\n",
              " 13767,\n",
              " 14153,\n",
              " 14423,\n",
              " 14523,\n",
              " 14646,\n",
              " 14801,\n",
              " 14863,\n",
              " 14871,\n",
              " 15303,\n",
              " 15891,\n",
              " 16605,\n",
              " 17022,\n",
              " 17138,\n",
              " 17655,\n",
              " 18622,\n",
              " 19855,\n",
              " 20595,\n",
              " 21928,\n",
              " 23969,\n",
              " 24190,\n",
              " 24683,\n",
              " 24974,\n",
              " 25347,\n",
              " 25549,\n",
              " 26212,\n",
              " 27487,\n",
              " 28000,\n",
              " 28467,\n",
              " 29455,\n",
              " 29935,\n",
              " 30005,\n",
              " 30873,\n",
              " 32537,\n",
              " 32775,\n",
              " 33768,\n",
              " 33904,\n",
              " 36553,\n",
              " 37321,\n",
              " 37568,\n",
              " 38709,\n",
              " 40958,\n",
              " 41521,\n",
              " 42337,\n",
              " 46216,\n",
              " 48036,\n",
              " 48345,\n",
              " 48418,\n",
              " 48533,\n",
              " 48599,\n",
              " 51076,\n",
              " 53371,\n",
              " 54780,\n",
              " 54867,\n",
              " 56789,\n",
              " 57952,\n",
              " 59330,\n",
              " 59894,\n",
              " 62675,\n",
              " 68010,\n",
              " 71439,\n",
              " 73131,\n",
              " 73450,\n",
              " 78139,\n",
              " 79611,\n",
              " 83380,\n",
              " 86475,\n",
              " 88350,\n",
              " 91621,\n",
              " 92278,\n",
              " 92318,\n",
              " 92413,\n",
              " 96279,\n",
              " 100372,\n",
              " 107657,\n",
              " 108280,\n",
              " 118800,\n",
              " 118801,\n",
              " 118965,\n",
              " 119057,\n",
              " 119251,\n",
              " 119297,\n",
              " 119449}"
            ]
          },
          "metadata": {},
          "execution_count": 105
        }
      ]
    },
    {
      "cell_type": "code",
      "source": [
        "for elem in tokenizer.encode(txt):\n",
        "  print(tokenizer.decode(elem))"
      ],
      "metadata": {
        "colab": {
          "base_uri": "https://localhost:8080/"
        },
        "id": "Pw9nX0laitdI",
        "outputId": "ac4f82b5-8ebb-4843-a850-730b5e2fff80"
      },
      "execution_count": null,
      "outputs": [
        {
          "output_type": "stream",
          "name": "stdout",
          "text": [
            "[ C L S ]\n",
            "타\n",
            "# # 인 의\n",
            "소\n",
            "# # 송\n",
            "# # 에 서\n",
            "사\n",
            "# # 실 을\n",
            "증\n",
            "# # 언\n",
            "# # 하 는\n",
            "증\n",
            "# # 인 이\n",
            "그\n",
            "증\n",
            "# # 언\n",
            "# # 을\n",
            "조\n",
            "# # 건\n",
            "# # 으 로\n",
            "그\n",
            "소\n",
            "# # 송\n",
            "# # 의\n",
            "일\n",
            "# # 방\n",
            "당\n",
            "# # 사\n",
            "# # 자\n",
            "등 으 로\n",
            "# # 부 터\n",
            "통\n",
            "# # 상\n",
            "# # 적 으 로\n",
            "용\n",
            "# # 인\n",
            "# # 될\n",
            "수\n",
            "있 는\n",
            "수\n",
            "# # 준\n",
            "# # 예\n",
            "# # 컨\n",
            "# # 대\n",
            "증\n",
            "# # 인\n",
            "# # 에 게\n",
            "일\n",
            "# # 당\n",
            "및\n",
            "여\n",
            "# # 비\n",
            "# # 가\n",
            "지\n",
            "# # 급\n",
            "# # 되\n",
            "# # 기 는\n",
            "하 지 만\n",
            "증\n",
            "# # 인 이\n",
            "증\n",
            "# # 언\n",
            "# # 을\n",
            "위 하 여\n",
            "법\n",
            "# # 원 에\n",
            "출\n",
            "# # 석\n",
            "# # 함\n",
            "# # 으 로\n",
            "# # 써\n",
            "입\n",
            "# # 게\n",
            "되 는\n",
            "손\n",
            "# # 해\n",
            "# # 에 는\n",
            "미\n",
            "# # 치\n",
            "# # 지\n",
            "못\n",
            "# # 하 는\n",
            "경 우\n",
            "그\n",
            "# # 러\n",
            "# # 한\n",
            "손\n",
            "# # 해 를\n",
            "전\n",
            "# # 보\n",
            "# # 하 여\n",
            "주\n",
            "# # 는\n",
            "정 도\n",
            "# # 을\n",
            "넘\n",
            "# # 어\n",
            "# # 서 는\n",
            "대\n",
            "# # 가 를\n",
            "제\n",
            "# # 공\n",
            "# # 받\n",
            "# # 기 로\n",
            "하 는\n",
            "약\n",
            "# # 정\n",
            "# # 은\n",
            "국\n",
            "# # 민\n",
            "# # 의\n",
            "사\n",
            "# # 법\n",
            "# # 참\n",
            "# # 여\n",
            "# # 행\n",
            "# # 위\n",
            "# # 가\n",
            "대\n",
            "# # 가 와\n",
            "결\n",
            "# # 부\n",
            "# # 됨\n",
            "# # 으 로\n",
            "# # 써\n",
            "사\n",
            "# # 법\n",
            "# # 작\n",
            "# # 용\n",
            "# # 의\n",
            "불\n",
            "# # 가\n",
            "# # 매\n",
            "# # 수\n",
            "# # 성\n",
            "내\n",
            "# # 지\n",
            "대\n",
            "# # 가\n",
            "# # 무\n",
            "# # 관\n",
            "# # 성 이\n",
            "본\n",
            "# # 질\n",
            "# # 적 으 로\n",
            "침\n",
            "# # 해\n",
            "# # 되 는\n",
            "경 우\n",
            "# # 로 서\n",
            "반\n",
            "# # 사\n",
            "# # 회\n",
            "# # 적\n",
            "법\n",
            "# # 률\n",
            "# # 행\n",
            "# # 위 에\n",
            "해 당\n",
            "# # 하 여\n",
            "무\n",
            "# # 효\n",
            "# # 라 고\n",
            "할\n",
            "것 이 다\n",
            "이 는\n",
            "증\n",
            "# # 언\n",
            "# # 거\n",
            "# # 부\n",
            "# # 권\n",
            "# # 이\n",
            "있 는\n",
            "증\n",
            "# # 인 이\n",
            "그\n",
            "증\n",
            "# # 언\n",
            "# # 거\n",
            "# # 부\n",
            "# # 권 을\n",
            "포\n",
            "# # 기\n",
            "# # 하 고\n",
            "증\n",
            "# # 언\n",
            "# # 을\n",
            "하 는\n",
            "경 우\n",
            "# # 라 고\n",
            "하 여\n",
            "달 리\n",
            "볼\n",
            "것 이\n",
            "아\n",
            "# # 니 다\n",
            "[ S E P ]\n"
          ]
        }
      ]
    },
    {
      "cell_type": "code",
      "source": [
        "print(tokenizer.decode(101))\n",
        "\n",
        "print(tokenizer.decode(102))"
      ],
      "metadata": {
        "colab": {
          "base_uri": "https://localhost:8080/"
        },
        "id": "syi0yqMEiuwS",
        "outputId": "bf9123fb-0175-42d9-a2c2-b761470fd5a1"
      },
      "execution_count": null,
      "outputs": [
        {
          "output_type": "stream",
          "name": "stdout",
          "text": [
            "[ C L S ]\n",
            "[ S E P ]\n"
          ]
        }
      ]
    },
    {
      "cell_type": "code",
      "source": [
        "print(tokenizer.cls_token, ':', tokenizer.cls_token_id)\n",
        "print(tokenizer.sep_token, ':' , tokenizer.sep_token_id)\n"
      ],
      "metadata": {
        "colab": {
          "base_uri": "https://localhost:8080/"
        },
        "id": "34e9VzHUlSfB",
        "outputId": "fa330170-680e-407b-aca1-0a7bdad4ee72"
      },
      "execution_count": null,
      "outputs": [
        {
          "output_type": "stream",
          "name": "stdout",
          "text": [
            "[CLS] : 101\n",
            "[SEP] : 102\n"
          ]
        }
      ]
    },
    {
      "cell_type": "code",
      "source": [
        "print(tokenizer.pad_token, ':', tokenizer.pad_token_id)"
      ],
      "metadata": {
        "colab": {
          "base_uri": "https://localhost:8080/"
        },
        "id": "79axoeo7lUmm",
        "outputId": "edb58a20-3dcd-43d3-b59d-f338b72ce868"
      },
      "execution_count": null,
      "outputs": [
        {
          "output_type": "stream",
          "name": "stdout",
          "text": [
            "[PAD] : 0\n"
          ]
        }
      ]
    },
    {
      "cell_type": "code",
      "source": [
        "max_seq_len = 300\n",
        "encoded_result = tokenizer.encode(txt, max_length=max_seq_len, pad_to_max_length=True,truncation=True)\n",
        "print(encoded_result)\n",
        "print('길이 :', len(encoded_result))"
      ],
      "metadata": {
        "colab": {
          "base_uri": "https://localhost:8080/"
        },
        "id": "DhAeGYdSlZMr",
        "outputId": "cf776db3-738a-4851-a381-ad479b845dad"
      },
      "execution_count": null,
      "outputs": [
        {
          "output_type": "stream",
          "name": "stdout",
          "text": [
            "[101, 9845, 48418, 9448, 119057, 11489, 9405, 83380, 9705, 48036, 12178, 9705, 56789, 8924, 9705, 48036, 10622, 9678, 71439, 11467, 8924, 9448, 119057, 10459, 9641, 42337, 9067, 12945, 13764, 86475, 17655, 9879, 14871, 17022, 9603, 12030, 59330, 9460, 13767, 9460, 54867, 96279, 119297, 14423, 9705, 12030, 26212, 9641, 21928, 9316, 9565, 29455, 11287, 9706, 37568, 118800, 46216, 32775, 9705, 56789, 9705, 48036, 10622, 68010, 9341, 108280, 9768, 40958, 48533, 11467, 73131, 9645, 14153, 54780, 9450, 14523, 15303, 9309, 18622, 12508, 9290, 12178, 28467, 8924, 30873, 11102, 9450, 92278, 9665, 30005, 13374, 9689, 11018, 107657, 10622, 9008, 12965, 37321, 9069, 92318, 9672, 28000, 118965, 62675, 23969, 9539, 16605, 10892, 8909, 36553, 10459, 9405, 33768, 119251, 29935, 25549, 19855, 11287, 9069, 79611, 8881, 14646, 118801, 11467, 73131, 9405, 33768, 38709, 24974, 10459, 9368, 11287, 100372, 15891, 17138, 8996, 12508, 9069, 11287, 32537, 20595, 53371, 9358, 48599, 17022, 9783, 14523, 24683, 28467, 92413, 9321, 12945, 14863, 14801, 9341, 88350, 25549, 73450, 91621, 13374, 9294, 119449, 59894, 9955, 24190, 33904, 9705, 48036, 41521, 14646, 25347, 10739, 13767, 9705, 56789, 8924, 9705, 48036, 41521, 14646, 57952, 9928, 12310, 12453, 9705, 48036, 10622, 23969, 28467, 59894, 51076, 78139, 9359, 27487, 9519, 48345, 102, 0, 0, 0, 0, 0, 0, 0, 0, 0, 0, 0, 0, 0, 0, 0, 0, 0, 0, 0, 0, 0, 0, 0, 0, 0, 0, 0, 0, 0, 0, 0, 0, 0, 0, 0, 0, 0, 0, 0, 0, 0, 0, 0, 0, 0, 0, 0, 0, 0, 0, 0, 0, 0, 0, 0, 0, 0, 0, 0, 0, 0, 0, 0, 0, 0, 0, 0, 0, 0, 0, 0, 0, 0, 0, 0, 0, 0, 0, 0, 0, 0, 0, 0, 0, 0, 0, 0, 0, 0, 0, 0, 0, 0, 0, 0, 0, 0, 0, 0, 0, 0, 0, 0]\n",
            "길이 : 300\n"
          ]
        },
        {
          "output_type": "stream",
          "name": "stderr",
          "text": [
            "/usr/local/lib/python3.8/dist-packages/transformers/tokenization_utils_base.py:2336: FutureWarning: The `pad_to_max_length` argument is deprecated and will be removed in a future version, use `padding=True` or `padding='longest'` to pad to the longest sequence in the batch, or use `padding='max_length'` to pad to a max length. In this case, you can give a specific length with `max_length` (e.g. `max_length=45`) or leave max_length to None to pad to the maximal input size of the model (e.g. 512 for Bert).\n",
            "  warnings.warn(\n"
          ]
        }
      ]
    },
    {
      "cell_type": "code",
      "source": [
        "# 세그멘트 인풋\n",
        "print([0]*max_seq_len)"
      ],
      "metadata": {
        "colab": {
          "base_uri": "https://localhost:8080/"
        },
        "id": "jP56m3dzlwPd",
        "outputId": "d2912423-2eab-46a3-a4c6-5c8d47b2c01a"
      },
      "execution_count": null,
      "outputs": [
        {
          "output_type": "stream",
          "name": "stdout",
          "text": [
            "[0, 0, 0, 0, 0, 0, 0, 0, 0, 0, 0, 0, 0, 0, 0, 0, 0, 0, 0, 0, 0, 0, 0, 0, 0, 0, 0, 0, 0, 0, 0, 0, 0, 0, 0, 0, 0, 0, 0, 0, 0, 0, 0, 0, 0, 0, 0, 0, 0, 0, 0, 0, 0, 0, 0, 0, 0, 0, 0, 0, 0, 0, 0, 0, 0, 0, 0, 0, 0, 0, 0, 0, 0, 0, 0, 0, 0, 0, 0, 0, 0, 0, 0, 0, 0, 0, 0, 0, 0, 0, 0, 0, 0, 0, 0, 0, 0, 0, 0, 0, 0, 0, 0, 0, 0, 0, 0, 0, 0, 0, 0, 0, 0, 0, 0, 0, 0, 0, 0, 0, 0, 0, 0, 0, 0, 0, 0, 0, 0, 0, 0, 0, 0, 0, 0, 0, 0, 0, 0, 0, 0, 0, 0, 0, 0, 0, 0, 0, 0, 0, 0, 0, 0, 0, 0, 0, 0, 0, 0, 0, 0, 0, 0, 0, 0, 0, 0, 0, 0, 0, 0, 0, 0, 0, 0, 0, 0, 0, 0, 0, 0, 0, 0, 0, 0, 0, 0, 0, 0, 0, 0, 0, 0, 0, 0, 0, 0, 0, 0, 0, 0, 0, 0, 0, 0, 0, 0, 0, 0, 0, 0, 0, 0, 0, 0, 0, 0, 0, 0, 0, 0, 0, 0, 0, 0, 0, 0, 0, 0, 0, 0, 0, 0, 0, 0, 0, 0, 0, 0, 0, 0, 0, 0, 0, 0, 0, 0, 0, 0, 0, 0, 0, 0, 0, 0, 0, 0, 0, 0, 0, 0, 0, 0, 0, 0, 0, 0, 0, 0, 0, 0, 0, 0, 0, 0, 0, 0, 0, 0, 0, 0, 0, 0, 0, 0, 0, 0, 0, 0, 0, 0, 0, 0, 0, 0, 0, 0, 0, 0, 0]\n"
          ]
        }
      ]
    },
    {
      "cell_type": "code",
      "source": [
        "# 마스크 인풋\n",
        "valid_num = len(tokenizer.encode(txt))\n",
        "print(valid_num * [1] + (max_seq_len - valid_num) * [0])"
      ],
      "metadata": {
        "colab": {
          "base_uri": "https://localhost:8080/"
        },
        "id": "IPfjMjAfl0Dj",
        "outputId": "665e2b14-3d2d-4df4-e975-e14498687f1a"
      },
      "execution_count": null,
      "outputs": [
        {
          "output_type": "stream",
          "name": "stdout",
          "text": [
            "[1, 1, 1, 1, 1, 1, 1, 1, 1, 1, 1, 1, 1, 1, 1, 1, 1, 1, 1, 1, 1, 1, 1, 1, 1, 1, 1, 1, 1, 1, 1, 1, 1, 1, 1, 1, 1, 1, 1, 1, 1, 1, 1, 1, 1, 1, 1, 1, 1, 1, 1, 1, 1, 1, 1, 1, 1, 1, 1, 1, 1, 1, 1, 1, 1, 1, 1, 1, 1, 1, 1, 1, 1, 1, 1, 1, 1, 1, 1, 1, 1, 1, 1, 1, 1, 1, 1, 1, 1, 1, 1, 1, 1, 1, 1, 1, 1, 1, 1, 1, 1, 1, 1, 1, 1, 1, 1, 1, 1, 1, 1, 1, 1, 1, 1, 1, 1, 1, 1, 1, 1, 1, 1, 1, 1, 1, 1, 1, 1, 1, 1, 1, 1, 1, 1, 1, 1, 1, 1, 1, 1, 1, 1, 1, 1, 1, 1, 1, 1, 1, 1, 1, 1, 1, 1, 1, 1, 1, 1, 1, 1, 1, 1, 1, 1, 1, 1, 1, 1, 1, 1, 1, 1, 1, 1, 1, 1, 1, 1, 1, 1, 1, 1, 1, 1, 1, 1, 1, 1, 1, 1, 1, 1, 1, 1, 1, 1, 0, 0, 0, 0, 0, 0, 0, 0, 0, 0, 0, 0, 0, 0, 0, 0, 0, 0, 0, 0, 0, 0, 0, 0, 0, 0, 0, 0, 0, 0, 0, 0, 0, 0, 0, 0, 0, 0, 0, 0, 0, 0, 0, 0, 0, 0, 0, 0, 0, 0, 0, 0, 0, 0, 0, 0, 0, 0, 0, 0, 0, 0, 0, 0, 0, 0, 0, 0, 0, 0, 0, 0, 0, 0, 0, 0, 0, 0, 0, 0, 0, 0, 0, 0, 0, 0, 0, 0, 0, 0, 0, 0, 0, 0, 0, 0, 0, 0, 0, 0, 0, 0, 0]\n"
          ]
        }
      ]
    },
    {
      "cell_type": "code",
      "source": [
        "def convert_examples_to_features(examples, max_seq_len, tokenizer):\n",
        "    \n",
        "    input_ids, attention_masks, token_type_ids, data_labels = [], [], [], []\n",
        "    \n",
        "    for example, label in tqdm(zip(examples), total=len(examples)):\n",
        "        # input_id는 워드 임베딩을 위한 문장의 정수 인코딩\n",
        "        input_id = tokenizer.encode(example, max_length=max_seq_len, pad_to_max_length=True)\n",
        "       \n",
        "        # attention_mask는 실제 단어가 위치하면 1, 패딩의 위치에는 0인 시퀀스.\n",
        "        padding_count = input_id.count(tokenizer.pad_token_id)\n",
        "        attention_mask = [1] * (max_seq_len - padding_count) + [0] * padding_count\n",
        "        \n",
        "        # token_type_id는 세그먼트 임베딩을 위한 것으로 이번 예제는 문장이 1개이므로 전부 0으로 통일.\n",
        "        token_type_id = [0] * max_seq_len\n",
        "\n",
        "        assert len(input_id) == max_seq_len, \"Error with input length {} vs {}\".format(len(input_id), max_seq_len)\n",
        "        assert len(attention_mask) == max_seq_len, \"Error with attention mask length {} vs {}\".format(len(attention_mask), max_seq_len)\n",
        "        assert len(token_type_id) == max_seq_len, \"Error with token type length {} vs {}\".format(len(token_type_id), max_seq_len)\n",
        "\n",
        "        input_ids.append(input_id)\n",
        "        attention_masks.append(attention_mask)\n",
        "        token_type_ids.append(token_type_id)\n",
        "        \n",
        "\n",
        "    input_ids = np.array(input_ids, dtype=int)\n",
        "    attention_masks = np.array(attention_masks, dtype=int)\n",
        "    token_type_ids = np.array(token_type_ids, dtype=int)\n",
        "\n",
        "    \n",
        "    return (input_ids, attention_masks, token_type_ids)"
      ],
      "metadata": {
        "id": "aNMDJCVgmDpo"
      },
      "execution_count": null,
      "outputs": []
    },
    {
      "cell_type": "code",
      "source": [
        "### 문장 임베딩 sentence_transformers"
      ],
      "metadata": {
        "id": "OJ48KqX4qj63"
      },
      "execution_count": null,
      "outputs": []
    },
    {
      "cell_type": "code",
      "source": [
        "!pip install sentence_transformers"
      ],
      "metadata": {
        "id": "-v9q744HotDq",
        "colab": {
          "base_uri": "https://localhost:8080/"
        },
        "outputId": "d8c78290-eec9-42da-a201-818e4889eaa3"
      },
      "execution_count": null,
      "outputs": [
        {
          "output_type": "stream",
          "name": "stdout",
          "text": [
            "Looking in indexes: https://pypi.org/simple, https://us-python.pkg.dev/colab-wheels/public/simple/\n",
            "Requirement already satisfied: sentence_transformers in /usr/local/lib/python3.8/dist-packages (2.2.2)\n",
            "Requirement already satisfied: nltk in /usr/local/lib/python3.8/dist-packages (from sentence_transformers) (3.7)\n",
            "Requirement already satisfied: torch>=1.6.0 in /usr/local/lib/python3.8/dist-packages (from sentence_transformers) (1.13.0+cu116)\n",
            "Requirement already satisfied: torchvision in /usr/local/lib/python3.8/dist-packages (from sentence_transformers) (0.14.0+cu116)\n",
            "Requirement already satisfied: scikit-learn in /usr/local/lib/python3.8/dist-packages (from sentence_transformers) (1.0.2)\n",
            "Requirement already satisfied: tqdm in /usr/local/lib/python3.8/dist-packages (from sentence_transformers) (4.64.1)\n",
            "Requirement already satisfied: sentencepiece in /usr/local/lib/python3.8/dist-packages (from sentence_transformers) (0.1.97)\n",
            "Requirement already satisfied: numpy in /usr/local/lib/python3.8/dist-packages (from sentence_transformers) (1.21.6)\n",
            "Requirement already satisfied: transformers<5.0.0,>=4.6.0 in /usr/local/lib/python3.8/dist-packages (from sentence_transformers) (4.25.1)\n",
            "Requirement already satisfied: scipy in /usr/local/lib/python3.8/dist-packages (from sentence_transformers) (1.7.3)\n",
            "Requirement already satisfied: huggingface-hub>=0.4.0 in /usr/local/lib/python3.8/dist-packages (from sentence_transformers) (0.11.1)\n",
            "Requirement already satisfied: requests in /usr/local/lib/python3.8/dist-packages (from huggingface-hub>=0.4.0->sentence_transformers) (2.25.1)\n",
            "Requirement already satisfied: typing-extensions>=3.7.4.3 in /usr/local/lib/python3.8/dist-packages (from huggingface-hub>=0.4.0->sentence_transformers) (4.4.0)\n",
            "Requirement already satisfied: pyyaml>=5.1 in /usr/local/lib/python3.8/dist-packages (from huggingface-hub>=0.4.0->sentence_transformers) (6.0)\n",
            "Requirement already satisfied: filelock in /usr/local/lib/python3.8/dist-packages (from huggingface-hub>=0.4.0->sentence_transformers) (3.8.2)\n",
            "Requirement already satisfied: packaging>=20.9 in /usr/local/lib/python3.8/dist-packages (from huggingface-hub>=0.4.0->sentence_transformers) (21.3)\n",
            "Requirement already satisfied: regex!=2019.12.17 in /usr/local/lib/python3.8/dist-packages (from transformers<5.0.0,>=4.6.0->sentence_transformers) (2022.6.2)\n",
            "Requirement already satisfied: tokenizers!=0.11.3,<0.14,>=0.11.1 in /usr/local/lib/python3.8/dist-packages (from transformers<5.0.0,>=4.6.0->sentence_transformers) (0.13.2)\n",
            "Requirement already satisfied: click in /usr/local/lib/python3.8/dist-packages (from nltk->sentence_transformers) (7.1.2)\n",
            "Requirement already satisfied: joblib in /usr/local/lib/python3.8/dist-packages (from nltk->sentence_transformers) (1.2.0)\n",
            "Requirement already satisfied: threadpoolctl>=2.0.0 in /usr/local/lib/python3.8/dist-packages (from scikit-learn->sentence_transformers) (3.1.0)\n",
            "Requirement already satisfied: pillow!=8.3.*,>=5.3.0 in /usr/local/lib/python3.8/dist-packages (from torchvision->sentence_transformers) (7.1.2)\n",
            "Requirement already satisfied: pyparsing!=3.0.5,>=2.0.2 in /usr/local/lib/python3.8/dist-packages (from packaging>=20.9->huggingface-hub>=0.4.0->sentence_transformers) (3.0.9)\n",
            "Requirement already satisfied: idna<3,>=2.5 in /usr/local/lib/python3.8/dist-packages (from requests->huggingface-hub>=0.4.0->sentence_transformers) (2.10)\n",
            "Requirement already satisfied: urllib3<1.27,>=1.21.1 in /usr/local/lib/python3.8/dist-packages (from requests->huggingface-hub>=0.4.0->sentence_transformers) (1.24.3)\n",
            "Requirement already satisfied: certifi>=2017.4.17 in /usr/local/lib/python3.8/dist-packages (from requests->huggingface-hub>=0.4.0->sentence_transformers) (2022.12.7)\n",
            "Requirement already satisfied: chardet<5,>=3.0.2 in /usr/local/lib/python3.8/dist-packages (from requests->huggingface-hub>=0.4.0->sentence_transformers) (4.0.0)\n"
          ]
        }
      ]
    },
    {
      "cell_type": "code",
      "source": [
        "import urllib.request\n",
        "import pandas as pd\n",
        "\n",
        "from sentence_transformers import SentenceTransformer"
      ],
      "metadata": {
        "id": "UAZy6d2OqenJ"
      },
      "execution_count": null,
      "outputs": []
    },
    {
      "cell_type": "code",
      "source": [
        "train_data=train_data[train_data['판결요지']!=' '].reset_index(drop=True)\n",
        "train_data.head()"
      ],
      "metadata": {
        "colab": {
          "base_uri": "https://localhost:8080/",
          "height": 206
        },
        "id": "LKL_IpUnrKRY",
        "outputId": "b08f0c10-4c5e-45fc-e496-66c9cf385e34"
      },
      "execution_count": null,
      "outputs": [
        {
          "output_type": "execute_result",
          "data": {
            "text/plain": [
              "                                                판결요지\n",
              "0    甲이 하남시장에게 용도를 ‘농산물 직거래용 가설점포’로 하고 존치기간을 3년 이...\n",
              "1  [1] 구 도시 및 주거환경정비법(2013. 12. 24. 법률 제12116호로 개...\n",
              "2  [1] 당사자는 소장에 기재된 표시 및 청구의 내용과 원인사실을 합리적으로 해석하여...\n",
              "3  [1] 계약의 해석은 계약 내용을 명확하게 확정하는 것으로서 당사자 사이에 계약의 ...\n",
              "4    [1] 국세징수법상 체납처분 유예와 압류해제, 납세담보에 관한 규정의 체계와 문..."
            ],
            "text/html": [
              "\n",
              "  <div id=\"df-1a05dd4d-f729-49d2-8a78-a37b68f882c1\">\n",
              "    <div class=\"colab-df-container\">\n",
              "      <div>\n",
              "<style scoped>\n",
              "    .dataframe tbody tr th:only-of-type {\n",
              "        vertical-align: middle;\n",
              "    }\n",
              "\n",
              "    .dataframe tbody tr th {\n",
              "        vertical-align: top;\n",
              "    }\n",
              "\n",
              "    .dataframe thead th {\n",
              "        text-align: right;\n",
              "    }\n",
              "</style>\n",
              "<table border=\"1\" class=\"dataframe\">\n",
              "  <thead>\n",
              "    <tr style=\"text-align: right;\">\n",
              "      <th></th>\n",
              "      <th>판결요지</th>\n",
              "    </tr>\n",
              "  </thead>\n",
              "  <tbody>\n",
              "    <tr>\n",
              "      <th>0</th>\n",
              "      <td>甲이 하남시장에게 용도를 ‘농산물 직거래용 가설점포’로 하고 존치기간을 3년 이...</td>\n",
              "    </tr>\n",
              "    <tr>\n",
              "      <th>1</th>\n",
              "      <td>[1] 구 도시 및 주거환경정비법(2013. 12. 24. 법률 제12116호로 개...</td>\n",
              "    </tr>\n",
              "    <tr>\n",
              "      <th>2</th>\n",
              "      <td>[1] 당사자는 소장에 기재된 표시 및 청구의 내용과 원인사실을 합리적으로 해석하여...</td>\n",
              "    </tr>\n",
              "    <tr>\n",
              "      <th>3</th>\n",
              "      <td>[1] 계약의 해석은 계약 내용을 명확하게 확정하는 것으로서 당사자 사이에 계약의 ...</td>\n",
              "    </tr>\n",
              "    <tr>\n",
              "      <th>4</th>\n",
              "      <td>[1] 국세징수법상 체납처분 유예와 압류해제, 납세담보에 관한 규정의 체계와 문...</td>\n",
              "    </tr>\n",
              "  </tbody>\n",
              "</table>\n",
              "</div>\n",
              "      <button class=\"colab-df-convert\" onclick=\"convertToInteractive('df-1a05dd4d-f729-49d2-8a78-a37b68f882c1')\"\n",
              "              title=\"Convert this dataframe to an interactive table.\"\n",
              "              style=\"display:none;\">\n",
              "        \n",
              "  <svg xmlns=\"http://www.w3.org/2000/svg\" height=\"24px\"viewBox=\"0 0 24 24\"\n",
              "       width=\"24px\">\n",
              "    <path d=\"M0 0h24v24H0V0z\" fill=\"none\"/>\n",
              "    <path d=\"M18.56 5.44l.94 2.06.94-2.06 2.06-.94-2.06-.94-.94-2.06-.94 2.06-2.06.94zm-11 1L8.5 8.5l.94-2.06 2.06-.94-2.06-.94L8.5 2.5l-.94 2.06-2.06.94zm10 10l.94 2.06.94-2.06 2.06-.94-2.06-.94-.94-2.06-.94 2.06-2.06.94z\"/><path d=\"M17.41 7.96l-1.37-1.37c-.4-.4-.92-.59-1.43-.59-.52 0-1.04.2-1.43.59L10.3 9.45l-7.72 7.72c-.78.78-.78 2.05 0 2.83L4 21.41c.39.39.9.59 1.41.59.51 0 1.02-.2 1.41-.59l7.78-7.78 2.81-2.81c.8-.78.8-2.07 0-2.86zM5.41 20L4 18.59l7.72-7.72 1.47 1.35L5.41 20z\"/>\n",
              "  </svg>\n",
              "      </button>\n",
              "      \n",
              "  <style>\n",
              "    .colab-df-container {\n",
              "      display:flex;\n",
              "      flex-wrap:wrap;\n",
              "      gap: 12px;\n",
              "    }\n",
              "\n",
              "    .colab-df-convert {\n",
              "      background-color: #E8F0FE;\n",
              "      border: none;\n",
              "      border-radius: 50%;\n",
              "      cursor: pointer;\n",
              "      display: none;\n",
              "      fill: #1967D2;\n",
              "      height: 32px;\n",
              "      padding: 0 0 0 0;\n",
              "      width: 32px;\n",
              "    }\n",
              "\n",
              "    .colab-df-convert:hover {\n",
              "      background-color: #E2EBFA;\n",
              "      box-shadow: 0px 1px 2px rgba(60, 64, 67, 0.3), 0px 1px 3px 1px rgba(60, 64, 67, 0.15);\n",
              "      fill: #174EA6;\n",
              "    }\n",
              "\n",
              "    [theme=dark] .colab-df-convert {\n",
              "      background-color: #3B4455;\n",
              "      fill: #D2E3FC;\n",
              "    }\n",
              "\n",
              "    [theme=dark] .colab-df-convert:hover {\n",
              "      background-color: #434B5C;\n",
              "      box-shadow: 0px 1px 3px 1px rgba(0, 0, 0, 0.15);\n",
              "      filter: drop-shadow(0px 1px 2px rgba(0, 0, 0, 0.3));\n",
              "      fill: #FFFFFF;\n",
              "    }\n",
              "  </style>\n",
              "\n",
              "      <script>\n",
              "        const buttonEl =\n",
              "          document.querySelector('#df-1a05dd4d-f729-49d2-8a78-a37b68f882c1 button.colab-df-convert');\n",
              "        buttonEl.style.display =\n",
              "          google.colab.kernel.accessAllowed ? 'block' : 'none';\n",
              "\n",
              "        async function convertToInteractive(key) {\n",
              "          const element = document.querySelector('#df-1a05dd4d-f729-49d2-8a78-a37b68f882c1');\n",
              "          const dataTable =\n",
              "            await google.colab.kernel.invokeFunction('convertToInteractive',\n",
              "                                                     [key], {});\n",
              "          if (!dataTable) return;\n",
              "\n",
              "          const docLinkHtml = 'Like what you see? Visit the ' +\n",
              "            '<a target=\"_blank\" href=https://colab.research.google.com/notebooks/data_table.ipynb>data table notebook</a>'\n",
              "            + ' to learn more about interactive tables.';\n",
              "          element.innerHTML = '';\n",
              "          dataTable['output_type'] = 'display_data';\n",
              "          await google.colab.output.renderOutput(dataTable, element);\n",
              "          const docLink = document.createElement('div');\n",
              "          docLink.innerHTML = docLinkHtml;\n",
              "          element.appendChild(docLink);\n",
              "        }\n",
              "      </script>\n",
              "    </div>\n",
              "  </div>\n",
              "  "
            ]
          },
          "metadata": {},
          "execution_count": 117
        }
      ]
    },
    {
      "cell_type": "code",
      "source": [
        "model = SentenceTransformer('sentence-transformers/xlm-r-100langs-bert-base-nli-stsb-mean-tokens')\n"
      ],
      "metadata": {
        "id": "KUoPxD2MrS0c"
      },
      "execution_count": null,
      "outputs": []
    },
    {
      "cell_type": "code",
      "source": [
        "train_data.apply(lambda row: print(row))"
      ],
      "metadata": {
        "colab": {
          "base_uri": "https://localhost:8080/"
        },
        "id": "AKPbIG29gMcs",
        "outputId": "ae26c1a9-433c-4a89-c076-7f4f0cf09849"
      },
      "execution_count": null,
      "outputs": [
        {
          "output_type": "stream",
          "name": "stdout",
          "text": [
            "0         甲이 하남시장에게 용도를 ‘농산물 직거래용 가설점포’로 하고 존치기간을 3년 이...\n",
            "1       [1] 구 도시 및 주거환경정비법(2013. 12. 24. 법률 제12116호로 개...\n",
            "2       [1] 당사자는 소장에 기재된 표시 및 청구의 내용과 원인사실을 합리적으로 해석하여...\n",
            "3       [1] 계약의 해석은 계약 내용을 명확하게 확정하는 것으로서 당사자 사이에 계약의 ...\n",
            "4         [1] 국세징수법상 체납처분 유예와 압류해제, 납세담보에 관한 규정의 체계와 문...\n",
            "                              ...                        \n",
            "1301    제작신고된 영화의 상영을 위한 검열신청에 대하여 행정청은 검열합격 여부를 결정할 수...\n",
            "1302    구 저작권법(57.1.28. 법률 제432호) 제16조의 이른바 저작자의 명예와 성...\n",
            "1303    (1) 문교부장관의 「검인정」은 검인정의 공고가 된 도서가 각급 학교의 교과용 도서...\n",
            "1304     본조의 문서는 본법 제316조 각호에 의하여 문서제출의무 있는 것이라야 하며 이와...\n",
            "1305    원고 간행의 위 옥편에는 저작권이 인정되지만, 국내에서 간행된 모든 옥편의 모태가 ...\n",
            "Name: 판결요지, Length: 1306, dtype: object\n"
          ]
        },
        {
          "output_type": "execute_result",
          "data": {
            "text/plain": [
              "판결요지    None\n",
              "dtype: object"
            ]
          },
          "metadata": {},
          "execution_count": 119
        }
      ]
    },
    {
      "cell_type": "code",
      "source": [
        "train_data['embedding'] = train_data['판결요지'].apply(lambda row: model.encode(row))\n",
        "\n",
        "train_data.head()"
      ],
      "metadata": {
        "colab": {
          "base_uri": "https://localhost:8080/",
          "height": 206
        },
        "id": "bExvDeQkryhm",
        "outputId": "676e74e5-5a28-4a8c-e719-0b702c0eab81"
      },
      "execution_count": null,
      "outputs": [
        {
          "output_type": "execute_result",
          "data": {
            "text/plain": [
              "                                                판결요지  \\\n",
              "0    甲이 하남시장에게 용도를 ‘농산물 직거래용 가설점포’로 하고 존치기간을 3년 이...   \n",
              "1  [1] 구 도시 및 주거환경정비법(2013. 12. 24. 법률 제12116호로 개...   \n",
              "2  [1] 당사자는 소장에 기재된 표시 및 청구의 내용과 원인사실을 합리적으로 해석하여...   \n",
              "3  [1] 계약의 해석은 계약 내용을 명확하게 확정하는 것으로서 당사자 사이에 계약의 ...   \n",
              "4    [1] 국세징수법상 체납처분 유예와 압류해제, 납세담보에 관한 규정의 체계와 문...   \n",
              "\n",
              "                                           embedding  \n",
              "0  [-0.31147346, -0.073408544, 0.85874754, -0.598...  \n",
              "1  [0.01767302, 0.41717035, 0.25802636, -0.034593...  \n",
              "2  [-0.68212134, 0.19737451, 0.6434947, 0.2059368...  \n",
              "3  [-0.29900867, 0.39915514, 0.91172725, 0.172642...  \n",
              "4  [-0.25778466, 0.7339301, -0.28581306, 0.075974...  "
            ],
            "text/html": [
              "\n",
              "  <div id=\"df-76e2c311-e24f-4fb1-bd62-f7d2fc1b966c\">\n",
              "    <div class=\"colab-df-container\">\n",
              "      <div>\n",
              "<style scoped>\n",
              "    .dataframe tbody tr th:only-of-type {\n",
              "        vertical-align: middle;\n",
              "    }\n",
              "\n",
              "    .dataframe tbody tr th {\n",
              "        vertical-align: top;\n",
              "    }\n",
              "\n",
              "    .dataframe thead th {\n",
              "        text-align: right;\n",
              "    }\n",
              "</style>\n",
              "<table border=\"1\" class=\"dataframe\">\n",
              "  <thead>\n",
              "    <tr style=\"text-align: right;\">\n",
              "      <th></th>\n",
              "      <th>판결요지</th>\n",
              "      <th>embedding</th>\n",
              "    </tr>\n",
              "  </thead>\n",
              "  <tbody>\n",
              "    <tr>\n",
              "      <th>0</th>\n",
              "      <td>甲이 하남시장에게 용도를 ‘농산물 직거래용 가설점포’로 하고 존치기간을 3년 이...</td>\n",
              "      <td>[-0.31147346, -0.073408544, 0.85874754, -0.598...</td>\n",
              "    </tr>\n",
              "    <tr>\n",
              "      <th>1</th>\n",
              "      <td>[1] 구 도시 및 주거환경정비법(2013. 12. 24. 법률 제12116호로 개...</td>\n",
              "      <td>[0.01767302, 0.41717035, 0.25802636, -0.034593...</td>\n",
              "    </tr>\n",
              "    <tr>\n",
              "      <th>2</th>\n",
              "      <td>[1] 당사자는 소장에 기재된 표시 및 청구의 내용과 원인사실을 합리적으로 해석하여...</td>\n",
              "      <td>[-0.68212134, 0.19737451, 0.6434947, 0.2059368...</td>\n",
              "    </tr>\n",
              "    <tr>\n",
              "      <th>3</th>\n",
              "      <td>[1] 계약의 해석은 계약 내용을 명확하게 확정하는 것으로서 당사자 사이에 계약의 ...</td>\n",
              "      <td>[-0.29900867, 0.39915514, 0.91172725, 0.172642...</td>\n",
              "    </tr>\n",
              "    <tr>\n",
              "      <th>4</th>\n",
              "      <td>[1] 국세징수법상 체납처분 유예와 압류해제, 납세담보에 관한 규정의 체계와 문...</td>\n",
              "      <td>[-0.25778466, 0.7339301, -0.28581306, 0.075974...</td>\n",
              "    </tr>\n",
              "  </tbody>\n",
              "</table>\n",
              "</div>\n",
              "      <button class=\"colab-df-convert\" onclick=\"convertToInteractive('df-76e2c311-e24f-4fb1-bd62-f7d2fc1b966c')\"\n",
              "              title=\"Convert this dataframe to an interactive table.\"\n",
              "              style=\"display:none;\">\n",
              "        \n",
              "  <svg xmlns=\"http://www.w3.org/2000/svg\" height=\"24px\"viewBox=\"0 0 24 24\"\n",
              "       width=\"24px\">\n",
              "    <path d=\"M0 0h24v24H0V0z\" fill=\"none\"/>\n",
              "    <path d=\"M18.56 5.44l.94 2.06.94-2.06 2.06-.94-2.06-.94-.94-2.06-.94 2.06-2.06.94zm-11 1L8.5 8.5l.94-2.06 2.06-.94-2.06-.94L8.5 2.5l-.94 2.06-2.06.94zm10 10l.94 2.06.94-2.06 2.06-.94-2.06-.94-.94-2.06-.94 2.06-2.06.94z\"/><path d=\"M17.41 7.96l-1.37-1.37c-.4-.4-.92-.59-1.43-.59-.52 0-1.04.2-1.43.59L10.3 9.45l-7.72 7.72c-.78.78-.78 2.05 0 2.83L4 21.41c.39.39.9.59 1.41.59.51 0 1.02-.2 1.41-.59l7.78-7.78 2.81-2.81c.8-.78.8-2.07 0-2.86zM5.41 20L4 18.59l7.72-7.72 1.47 1.35L5.41 20z\"/>\n",
              "  </svg>\n",
              "      </button>\n",
              "      \n",
              "  <style>\n",
              "    .colab-df-container {\n",
              "      display:flex;\n",
              "      flex-wrap:wrap;\n",
              "      gap: 12px;\n",
              "    }\n",
              "\n",
              "    .colab-df-convert {\n",
              "      background-color: #E8F0FE;\n",
              "      border: none;\n",
              "      border-radius: 50%;\n",
              "      cursor: pointer;\n",
              "      display: none;\n",
              "      fill: #1967D2;\n",
              "      height: 32px;\n",
              "      padding: 0 0 0 0;\n",
              "      width: 32px;\n",
              "    }\n",
              "\n",
              "    .colab-df-convert:hover {\n",
              "      background-color: #E2EBFA;\n",
              "      box-shadow: 0px 1px 2px rgba(60, 64, 67, 0.3), 0px 1px 3px 1px rgba(60, 64, 67, 0.15);\n",
              "      fill: #174EA6;\n",
              "    }\n",
              "\n",
              "    [theme=dark] .colab-df-convert {\n",
              "      background-color: #3B4455;\n",
              "      fill: #D2E3FC;\n",
              "    }\n",
              "\n",
              "    [theme=dark] .colab-df-convert:hover {\n",
              "      background-color: #434B5C;\n",
              "      box-shadow: 0px 1px 3px 1px rgba(0, 0, 0, 0.15);\n",
              "      filter: drop-shadow(0px 1px 2px rgba(0, 0, 0, 0.3));\n",
              "      fill: #FFFFFF;\n",
              "    }\n",
              "  </style>\n",
              "\n",
              "      <script>\n",
              "        const buttonEl =\n",
              "          document.querySelector('#df-76e2c311-e24f-4fb1-bd62-f7d2fc1b966c button.colab-df-convert');\n",
              "        buttonEl.style.display =\n",
              "          google.colab.kernel.accessAllowed ? 'block' : 'none';\n",
              "\n",
              "        async function convertToInteractive(key) {\n",
              "          const element = document.querySelector('#df-76e2c311-e24f-4fb1-bd62-f7d2fc1b966c');\n",
              "          const dataTable =\n",
              "            await google.colab.kernel.invokeFunction('convertToInteractive',\n",
              "                                                     [key], {});\n",
              "          if (!dataTable) return;\n",
              "\n",
              "          const docLinkHtml = 'Like what you see? Visit the ' +\n",
              "            '<a target=\"_blank\" href=https://colab.research.google.com/notebooks/data_table.ipynb>data table notebook</a>'\n",
              "            + ' to learn more about interactive tables.';\n",
              "          element.innerHTML = '';\n",
              "          dataTable['output_type'] = 'display_data';\n",
              "          await google.colab.output.renderOutput(dataTable, element);\n",
              "          const docLink = document.createElement('div');\n",
              "          docLink.innerHTML = docLinkHtml;\n",
              "          element.appendChild(docLink);\n",
              "        }\n",
              "      </script>\n",
              "    </div>\n",
              "  </div>\n",
              "  "
            ]
          },
          "metadata": {},
          "execution_count": 120
        }
      ]
    },
    {
      "cell_type": "code",
      "source": [
        "emb = np.array(train_data['embedding'])"
      ],
      "metadata": {
        "id": "dmehVEO7tVYo"
      },
      "execution_count": null,
      "outputs": []
    },
    {
      "cell_type": "code",
      "source": [
        "np.save('embed.npy',emb)"
      ],
      "metadata": {
        "id": "MWRxF_jStk2V"
      },
      "execution_count": null,
      "outputs": []
    },
    {
      "cell_type": "code",
      "source": [
        "import numpy as np\n",
        "from numpy import dot\n",
        "from numpy.linalg import norm"
      ],
      "metadata": {
        "id": "QcDVJxb8u5GE"
      },
      "execution_count": null,
      "outputs": []
    },
    {
      "cell_type": "code",
      "source": [
        "def cos_sim(A, B):\n",
        "  return dot(A, B)/(norm(A)*norm(B))\n",
        "\n",
        "def return_similar_answer(input):\n",
        "    embedding = model.encode(input)\n",
        "    train_data['score'] = train_data['embedding'].apply(lambda x: cos_sim(x, embedding))\n",
        "    return train_data.loc[train_data['score'].argsort()[::-1]].head()\n",
        "\n",
        "    #for index, row in results.iterrows():\n",
        "        #print(f'Sentence: {row[\"판결요지\"]} Score: {row[\"score\"]}')\n",
        "    #return results\n"
      ],
      "metadata": {
        "id": "isj47oRjt6I5"
      },
      "execution_count": null,
      "outputs": []
    },
    {
      "cell_type": "code",
      "source": [
        "txt = '타인의 소송에서 사실을 증언하는 증인이 그 증언을 조건으로 그 소송의 일방 당사자 등으로부터 통상적으로 용인될 수 있는 수준예컨대 증인에게 일당 및 여비가 지급되기는 하지만 증인이 증언을 위하여 법원에 출석함으로써 입게 되는 손해에는 미치지 못하는 경우 그러한 손해를 전보하여 주는 정도을 넘어서는 대가를 제공받기로 하는 약정은 국민의 사법참여행위가 대가와 결부됨으로써 사법작용의 불가매수성 내지 대가무관성이 본질적으로 침해되는 경우로서 반사회적 법률행위에 해당하여 무효라고 할 것이다 이는 증언거부권이 있는 증인이 그 증언거부권을 포기하고 증언을 하는 경우라고 하여 달리 볼 것이 아니다'"
      ],
      "metadata": {
        "id": "Xc4V-3JfuXJi"
      },
      "execution_count": null,
      "outputs": []
    },
    {
      "cell_type": "code",
      "source": [
        "txt = \"[1] 구 개인정보 보호법(2020. 2. 4. 법률 제16930호로 일부 개정되기 전의 것, 이하 같다) 제18조 제2항 제7호는 개인정보처리자가 ‘범죄의 수사와 공소의 제기 및 유지를 위하여 필요한 경우’에는 정보주체 또는 제3자의 이익을 부당하게 침해할 우려가 있는 때를 제외하고는 개인정보를 목적 외의 용도로 이용하거나 이를 제3자에 제공할 수 있음을 규정하였으나, 이는 ‘개인정보처리자’가 ‘공공기관’인 경우에 한정될 뿐 법인·단체·개인 등의 경우에는 적용되지 아니한다(구 개인정보 보호법 제18조 제2항 단서, 제2조 제5호 및 제6호). 또한 구 개인정보 보호법 제18조 제2항 제2호에서 정한 ‘다른 법률에 특별한 규정이 있는 경우’란 그 문언 그대로 개별 법률에서 개인정보의 제공이 허용됨을 구체적으로 명시한 경우로 한정하여 해석하여야 하므로, 형사소송법 제199조 제2항과 같이 수사기관이 공무소 기타 공사단체에 조회하여 필요한 사항의 보고를 요구할 수 있는 포괄적인 규정은 이에 해당하지 아니한다. 만일 형사소송법 제199조 제2항이 구 개인정보 보호법 제18조 제2항 제2호에서 정한 ‘다른 법률에 특별한 규정이 있는 경우’에 포함된다면, 구 개인정보 보호법 제18조 제2항 제7호에서 수사기관으로 하여금 공공기관에 한정하여 일정한 제한 아래 개인정보를 제공받을 수 있도록 한 입법 취지·목적을 몰각시킬 뿐만 아니라 헌법상 영장주의 및 적법절차의 원칙을 잠탈할 가능성이 크기 때문이다. [2] 개인정보 보호법 제59조 제2호의 의무주체인 ‘개인정보를 처리하거나 처리하였던 자’는 제2조 제5호의 ‘개인정보처리자’에 한정되지 않고, 업무상 알게 된 제2조 제1호의 ‘개인정보’를 제2조 제2호의 방법으로 ‘처리’하거나 ‘처리’하였던 자를 포함한다.[3] 형사소송법 제312조 제5항은 피고인 또는 피고인이 아닌 자가 수사과정에서 작성한 진술서의 증거능력에 관하여 형사소송법 제312조 제1항부터 제4항까지 준용하도록 규정하고 있으므로, 검사 또는 사법경찰관이 피고인이 아닌 자의 진술을 기재한 조서의 증거능력이 인정되려면 ‘적법한 절차와 방식에 따라 작성된 것’이어야 한다는 법리가 피고인이 아닌 자가 수사과정에서 작성한 진술서의 증거능력에 관하여도 적용된다. 한편 검사 또는 사법경찰관이 피의자가 아닌 자의 출석을 요구하여 조사하는 경우에는 피의자를 조사하는 경우와 마찬가지로 조사장소에 도착한 시각, 조사를 시작하고 마친 시각, 그 밖에 조사과정의 진행경과를 확인하기 위하여 필요한 사항을 조서에 기록하거나 별도의 서면에 기록한 후 수사기록에 편철하도록 하는 등 조사과정을 기록하게 한 형사소송법 제221조 제1항, 제244조의4 제1항, 제3항의 취지는 수사기관이 조사과정에서 피조사자로부터 진술증거를 취득하는 과정을 투명하게 함으로써 그 과정에서의 절차적 적법성을 제도적으로 보장하려는 것이다. 따라서 수사기관이 수사에 필요하여 피의자가 아닌 자로부터 진술서를 작성·제출받는 경우에도 그 절차는 준수되어야 하므로, 피고인이 아닌 자가 수사과정에서 진술서를 작성하였지만 수사기관이 조사과정의 진행경과를 확인하기 위하여 필요한 사항을 그 진술서에 기록하거나 별도의 서면에 기록한 후 수사기록에 편철하는 등 적절한 조치를 취하지 아니하여 형사소송법 제244조의4 제1항, 제3항에서 정한 절차를 위반한 경우에는, 그 진술증거 취득과정의 절차적 적법성의 제도적 보장이 침해되지 않았다고 볼 만한 특별한 사정이 없는 한 ‘적법한 절차와 방식’에 따라 수사과정에서 진술서가 작성되었다고 할 수 없어 증거능력을 인정할 수 없다.이러한 형사소송법 규정 및 문언과 그 입법 목적 등에 비추어 보면, 형사소송법 제312조 제5항의 적용대상인 ‘수사과정에서 작성한 진술서’란 수사가 시작된 이후에 수사기관의 관여 아래 작성된 것이거나, 개시된 수사와 관련하여 수사과정에 제출할 목적으로 작성한 것으로, 작성 시기와 경위 등 여러 사정에 비추어 그 실질이 이에 해당하는 이상 명칭이나 작성된 장소 여부를 불문한다.\""
      ],
      "metadata": {
        "id": "OnRwZpUknHZX"
      },
      "execution_count": null,
      "outputs": []
    },
    {
      "cell_type": "code",
      "source": [
        "return_similar_answer(txt)"
      ],
      "metadata": {
        "colab": {
          "base_uri": "https://localhost:8080/",
          "height": 206
        },
        "id": "ER6gkrlduQwF",
        "outputId": "2ab870f2-9f2c-46d2-e677-81c4412e74d8"
      },
      "execution_count": null,
      "outputs": [
        {
          "output_type": "execute_result",
          "data": {
            "text/plain": [
              "                                                   판결요지  \\\n",
              "1088  [1] 헌법 제10조, 제17조의 규정은 개인의 사생활이 타인에 의해 침해되거나 함...   \n",
              "924     [1] 구 정보통신망 이용촉진 및 정보보호 등에 관한 법률(2018. 12. 2...   \n",
              "951     [1] 공소사실의 기재는 범죄의 일시, 장소와 방법을 명시하여 사실을 특정할 수...   \n",
              "1119  [1] \"나홀로\"로 구성된 등록서비스표가 변호사업 등 그 지정서비스업과 관련하여 전...   \n",
              "972   저작권법 제104조 제1항, 저작권법 시행령 제46조 제1항의 규정 취지는 저작물 ...   \n",
              "\n",
              "                                              embedding     score  \n",
              "1088  [-0.1943559, 0.8320719, -0.1303346, 0.14887638...  0.728082  \n",
              "924   [0.5263359, 0.03007739, 0.28703815, -0.1061015...  0.714298  \n",
              "951   [-0.21458238, 0.25058204, 0.344163, 0.41663337...  0.690015  \n",
              "1119  [-0.108177684, 0.61882776, 0.5958349, -0.02585...  0.683682  \n",
              "972   [-0.11676365, 0.6199733, 0.2754198, 0.25344798...  0.679678  "
            ],
            "text/html": [
              "\n",
              "  <div id=\"df-e56813c4-5913-4fcf-a915-a07f43b38cc3\">\n",
              "    <div class=\"colab-df-container\">\n",
              "      <div>\n",
              "<style scoped>\n",
              "    .dataframe tbody tr th:only-of-type {\n",
              "        vertical-align: middle;\n",
              "    }\n",
              "\n",
              "    .dataframe tbody tr th {\n",
              "        vertical-align: top;\n",
              "    }\n",
              "\n",
              "    .dataframe thead th {\n",
              "        text-align: right;\n",
              "    }\n",
              "</style>\n",
              "<table border=\"1\" class=\"dataframe\">\n",
              "  <thead>\n",
              "    <tr style=\"text-align: right;\">\n",
              "      <th></th>\n",
              "      <th>판결요지</th>\n",
              "      <th>embedding</th>\n",
              "      <th>score</th>\n",
              "    </tr>\n",
              "  </thead>\n",
              "  <tbody>\n",
              "    <tr>\n",
              "      <th>1088</th>\n",
              "      <td>[1] 헌법 제10조, 제17조의 규정은 개인의 사생활이 타인에 의해 침해되거나 함...</td>\n",
              "      <td>[-0.1943559, 0.8320719, -0.1303346, 0.14887638...</td>\n",
              "      <td>0.728082</td>\n",
              "    </tr>\n",
              "    <tr>\n",
              "      <th>924</th>\n",
              "      <td>[1] 구 정보통신망 이용촉진 및 정보보호 등에 관한 법률(2018. 12. 2...</td>\n",
              "      <td>[0.5263359, 0.03007739, 0.28703815, -0.1061015...</td>\n",
              "      <td>0.714298</td>\n",
              "    </tr>\n",
              "    <tr>\n",
              "      <th>951</th>\n",
              "      <td>[1] 공소사실의 기재는 범죄의 일시, 장소와 방법을 명시하여 사실을 특정할 수...</td>\n",
              "      <td>[-0.21458238, 0.25058204, 0.344163, 0.41663337...</td>\n",
              "      <td>0.690015</td>\n",
              "    </tr>\n",
              "    <tr>\n",
              "      <th>1119</th>\n",
              "      <td>[1] \"나홀로\"로 구성된 등록서비스표가 변호사업 등 그 지정서비스업과 관련하여 전...</td>\n",
              "      <td>[-0.108177684, 0.61882776, 0.5958349, -0.02585...</td>\n",
              "      <td>0.683682</td>\n",
              "    </tr>\n",
              "    <tr>\n",
              "      <th>972</th>\n",
              "      <td>저작권법 제104조 제1항, 저작권법 시행령 제46조 제1항의 규정 취지는 저작물 ...</td>\n",
              "      <td>[-0.11676365, 0.6199733, 0.2754198, 0.25344798...</td>\n",
              "      <td>0.679678</td>\n",
              "    </tr>\n",
              "  </tbody>\n",
              "</table>\n",
              "</div>\n",
              "      <button class=\"colab-df-convert\" onclick=\"convertToInteractive('df-e56813c4-5913-4fcf-a915-a07f43b38cc3')\"\n",
              "              title=\"Convert this dataframe to an interactive table.\"\n",
              "              style=\"display:none;\">\n",
              "        \n",
              "  <svg xmlns=\"http://www.w3.org/2000/svg\" height=\"24px\"viewBox=\"0 0 24 24\"\n",
              "       width=\"24px\">\n",
              "    <path d=\"M0 0h24v24H0V0z\" fill=\"none\"/>\n",
              "    <path d=\"M18.56 5.44l.94 2.06.94-2.06 2.06-.94-2.06-.94-.94-2.06-.94 2.06-2.06.94zm-11 1L8.5 8.5l.94-2.06 2.06-.94-2.06-.94L8.5 2.5l-.94 2.06-2.06.94zm10 10l.94 2.06.94-2.06 2.06-.94-2.06-.94-.94-2.06-.94 2.06-2.06.94z\"/><path d=\"M17.41 7.96l-1.37-1.37c-.4-.4-.92-.59-1.43-.59-.52 0-1.04.2-1.43.59L10.3 9.45l-7.72 7.72c-.78.78-.78 2.05 0 2.83L4 21.41c.39.39.9.59 1.41.59.51 0 1.02-.2 1.41-.59l7.78-7.78 2.81-2.81c.8-.78.8-2.07 0-2.86zM5.41 20L4 18.59l7.72-7.72 1.47 1.35L5.41 20z\"/>\n",
              "  </svg>\n",
              "      </button>\n",
              "      \n",
              "  <style>\n",
              "    .colab-df-container {\n",
              "      display:flex;\n",
              "      flex-wrap:wrap;\n",
              "      gap: 12px;\n",
              "    }\n",
              "\n",
              "    .colab-df-convert {\n",
              "      background-color: #E8F0FE;\n",
              "      border: none;\n",
              "      border-radius: 50%;\n",
              "      cursor: pointer;\n",
              "      display: none;\n",
              "      fill: #1967D2;\n",
              "      height: 32px;\n",
              "      padding: 0 0 0 0;\n",
              "      width: 32px;\n",
              "    }\n",
              "\n",
              "    .colab-df-convert:hover {\n",
              "      background-color: #E2EBFA;\n",
              "      box-shadow: 0px 1px 2px rgba(60, 64, 67, 0.3), 0px 1px 3px 1px rgba(60, 64, 67, 0.15);\n",
              "      fill: #174EA6;\n",
              "    }\n",
              "\n",
              "    [theme=dark] .colab-df-convert {\n",
              "      background-color: #3B4455;\n",
              "      fill: #D2E3FC;\n",
              "    }\n",
              "\n",
              "    [theme=dark] .colab-df-convert:hover {\n",
              "      background-color: #434B5C;\n",
              "      box-shadow: 0px 1px 3px 1px rgba(0, 0, 0, 0.15);\n",
              "      filter: drop-shadow(0px 1px 2px rgba(0, 0, 0, 0.3));\n",
              "      fill: #FFFFFF;\n",
              "    }\n",
              "  </style>\n",
              "\n",
              "      <script>\n",
              "        const buttonEl =\n",
              "          document.querySelector('#df-e56813c4-5913-4fcf-a915-a07f43b38cc3 button.colab-df-convert');\n",
              "        buttonEl.style.display =\n",
              "          google.colab.kernel.accessAllowed ? 'block' : 'none';\n",
              "\n",
              "        async function convertToInteractive(key) {\n",
              "          const element = document.querySelector('#df-e56813c4-5913-4fcf-a915-a07f43b38cc3');\n",
              "          const dataTable =\n",
              "            await google.colab.kernel.invokeFunction('convertToInteractive',\n",
              "                                                     [key], {});\n",
              "          if (!dataTable) return;\n",
              "\n",
              "          const docLinkHtml = 'Like what you see? Visit the ' +\n",
              "            '<a target=\"_blank\" href=https://colab.research.google.com/notebooks/data_table.ipynb>data table notebook</a>'\n",
              "            + ' to learn more about interactive tables.';\n",
              "          element.innerHTML = '';\n",
              "          dataTable['output_type'] = 'display_data';\n",
              "          await google.colab.output.renderOutput(dataTable, element);\n",
              "          const docLink = document.createElement('div');\n",
              "          docLink.innerHTML = docLinkHtml;\n",
              "          element.appendChild(docLink);\n",
              "        }\n",
              "      </script>\n",
              "    </div>\n",
              "  </div>\n",
              "  "
            ]
          },
          "metadata": {},
          "execution_count": 127
        }
      ]
    },
    {
      "cell_type": "code",
      "source": [],
      "metadata": {
        "id": "fsyw1HOJu1Ib"
      },
      "execution_count": null,
      "outputs": []
    }
  ]
}